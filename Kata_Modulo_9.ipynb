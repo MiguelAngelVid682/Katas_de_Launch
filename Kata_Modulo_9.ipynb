{
 "cells": [
  {
   "cell_type": "markdown",
   "metadata": {},
   "source": [
    "# Ejercicio: Uso de funciones en Python\n",
    "### Ejercicio 1: Trabajar con argumentos en funciones\n",
    "Los argumentos requeridos en las funciones se utilizan cuando las funciones necesitan que esos argumentos funcionen correctamente. En este ejercicio, construirás un informe de combustible que requiere información de varias ubicaciones de combustible en todo el cohete.\n",
    "\n",
    "Comienza por crear una función que necesite tres lecturas de combustible y devuelva un informe:"
   ]
  },
  {
   "cell_type": "code",
   "execution_count": 7,
   "metadata": {},
   "outputs": [],
   "source": [
    "# Función para leer 3 tanques de combustible y muestre el promedio\n",
    "\n",
    "def informe(Tanque_principal,Tanque_externo,Tanque_reserva):\n",
    "    Promedio_total = (Tanque_principal+ Tanque_externo + Tanque_reserva)/3\n",
    "    return f\"\"\"Informe de combustible:\n",
    "    Promedio total: {Promedio_total}%\n",
    "    Tanque principal: {Tanque_principal}%\n",
    "    Tanque externo: {Tanque_externo}%\n",
    "    Tanque reserva: {Tanque_reserva}% \n",
    "    \"\"\""
   ]
  },
  {
   "cell_type": "markdown",
   "metadata": {},
   "source": [
    "Ahora que hemos definido la función de informes, vamos a comprobarlo. Para esta misión, los tanques no están llenos"
   ]
  },
  {
   "cell_type": "code",
   "execution_count": 8,
   "metadata": {},
   "outputs": [
    {
     "name": "stdout",
     "output_type": "stream",
     "text": [
      "Informe de combustible:\n",
      "    Promedio total: 78.33333333333333%\n",
      "    Tanque principal: 80%\n",
      "    Tanque externo: 70%\n",
      "    Tanque reserva: 85% \n",
      "    \n"
     ]
    }
   ],
   "source": [
    "print(informe(80, 70, 85))"
   ]
  },
  {
   "cell_type": "markdown",
   "metadata": {},
   "source": [
    "En lugar de simplemente crear el informe, la función también está calculando el promedio. Mejora la legibilidad extrayendo el cálculo promedio de la función en una nueva función para que el promedio se pueda hacer de forma independiente:"
   ]
  },
  {
   "cell_type": "code",
   "execution_count": 9,
   "metadata": {},
   "outputs": [
    {
     "name": "stdout",
     "output_type": "stream",
     "text": [
      "El promedio total es:  82.0\n"
     ]
    }
   ],
   "source": [
    "def Promedio(values):\n",
    "    Total = sum(values)\n",
    "    Numerode_taques = len(values)\n",
    "    return Total / Numerode_taques\n",
    "\n",
    "print(\"El promedio total es: \",Promedio([80, 85, 81])) "
   ]
  },
  {
   "cell_type": "markdown",
   "metadata": {},
   "source": [
    "Ahora actualiza la función de informes para llamando a la nueva función del promedio:"
   ]
  },
  {
   "cell_type": "code",
   "execution_count": 10,
   "metadata": {},
   "outputs": [
    {
     "name": "stdout",
     "output_type": "stream",
     "text": [
      "Informe de combustible:\n",
      "    Promedio total: 78.0%\n",
      "    Tanque principal: 88%\n",
      "    Tanque externo: 76%\n",
      "    Tanque reserva: 70% \n",
      "    \n"
     ]
    }
   ],
   "source": [
    "def informe(Tanque_principal,Tanque_externo,Tanque_reserva):\n",
    "    return f\"\"\"Informe de combustible:\n",
    "    Promedio total: {Promedio([Tanque_principal,Tanque_externo,Tanque_reserva])}%\n",
    "    Tanque principal: {Tanque_principal}%\n",
    "    Tanque externo: {Tanque_externo}%\n",
    "    Tanque reserva: {Tanque_reserva}% \n",
    "    \"\"\"\n",
    "print(informe(88, 76, 70))"
   ]
  },
  {
   "cell_type": "markdown",
   "metadata": {},
   "source": [
    "# Ejercicio 2: Trabajo con argumentos de palabra clave\n",
    "#### Ejercicio : Trabajar con argumentos de palabras clave en funciones\n",
    "En este ejercicio, construirás un informe de cohete que requiere varias piezas de información, como el tiempo hasta el destino, el combustible a la izquierda y el nombre del destino. Comienza por crear una función que creará un informe preciso de la misión:"
   ]
  },
  {
   "cell_type": "code",
   "execution_count": 11,
   "metadata": {},
   "outputs": [
    {
     "name": "stdout",
     "output_type": "stream",
     "text": [
      "\n",
      "    Mision a Luna\n",
      "    Tiempo de viaje: 65 minutos\n",
      "    Combustible restante: 500000 galones\n",
      "    \n"
     ]
    }
   ],
   "source": [
    "def Reportede_mision(Tiempode_lanzamiento,Tiempode_vuelo,Destino,Tanque_externo,Tanque_principal):\n",
    "    return f\"\"\"\n",
    "    Mision a {Destino}\n",
    "    Tiempo de viaje: {Tiempode_lanzamiento + Tiempode_vuelo} minutos\n",
    "    Combustible restante: {Tanque_externo + Tanque_principal} galones\n",
    "    \"\"\"\n",
    "\n",
    "print(Reportede_mision(14, 51, \"Luna\", 200000, 300000))\n"
   ]
  },
  {
   "cell_type": "markdown",
   "metadata": {},
   "source": [
    "La función es problemática porque no se puede adaptar para minutos adicionales o tanques adicionales de combustible. Hazlo más flexible permitiendo cualquier número de pasos basados en el tiempo y cualquier número de tanques. En lugar de usar *args y **kwargs, aprovecha el hecho de que puedes usar cualquier nombre que desees. Asegurate que la función sea más legible mediante el uso de nombres de variables que están asociados con las entradas, como *minutes y **fuel_reservoirs:"
   ]
  },
  {
   "cell_type": "code",
   "execution_count": 14,
   "metadata": {},
   "outputs": [
    {
     "name": "stdout",
     "output_type": "stream",
     "text": [
      "\n",
      "    Mision a Luna\n",
      "    Tiempo de viaje: 76 minutos\n",
      "    Combustible: 500000 galones\n",
      "    \n"
     ]
    }
   ],
   "source": [
    "def Reportede_mision(Destino, *minutos, **combustible_adicional):\n",
    "    return f\"\"\"\n",
    "    Mision a {Destino}\n",
    "    Tiempo de viaje: {sum(minutos)} minutos\n",
    "    Combustible: {sum(combustible_adicional.values())} galones\n",
    "    \"\"\"\n",
    "\n",
    "print(Reportede_mision(\"Luna\", 10, 15, 51, Tanque_principal=300000, Tanque_externo=200000))"
   ]
  },
  {
   "cell_type": "markdown",
   "metadata": {},
   "source": [
    "Debido a que el combustible que queda en los tanques es específico de cada tanque, actualiza la función para usar el nombre de cada tanque en el informe:"
   ]
  },
  {
   "cell_type": "code",
   "execution_count": 19,
   "metadata": {},
   "outputs": [
    {
     "name": "stdout",
     "output_type": "stream",
     "text": [
      "\n",
      "    Mision a Luna\n",
      "    Tiempo de viaje: 74 minutos\n",
      "    Combustible: 500000 galones\n",
      "    Tanque_principal -->300000 galones quedantes\n",
      "Tanque_externo -->200000 galones quedantes\n",
      "\n"
     ]
    }
   ],
   "source": [
    "def Reportede_mision(Destino, *minutos, **combustible_adicional):\n",
    "    Reporte_principal= f\"\"\"\n",
    "    Mision a {Destino}\n",
    "    Tiempo de viaje: {sum(minutos)} minutos\n",
    "    Combustible: {sum(combustible_adicional.values())} galones\n",
    "    \"\"\"\n",
    "    for Tanque, galones in combustible_adicional.items():\n",
    "        Reporte_principal += f\"{Tanque} -->{galones} galones quedantes\\n\"\n",
    "    return Reporte_principal\n",
    "\n",
    "\n",
    "print(Reportede_mision(\"Luna\", 8, 11, 55, Tanque_principal=300000, Tanque_externo=200000))"
   ]
  }
 ],
 "metadata": {
  "interpreter": {
   "hash": "323dd8c1eab61c643a1d5c16cfd9bbb9ca17dbbf95ae354016c0c3942bbccd1a"
  },
  "kernelspec": {
   "display_name": "Python 3.10.2 64-bit (windows store)",
   "language": "python",
   "name": "python3"
  },
  "language_info": {
   "codemirror_mode": {
    "name": "ipython",
    "version": 3
   },
   "file_extension": ".py",
   "mimetype": "text/x-python",
   "name": "python",
   "nbconvert_exporter": "python",
   "pygments_lexer": "ipython3",
   "version": "3.10.2"
  },
  "orig_nbformat": 4
 },
 "nbformat": 4,
 "nbformat_minor": 2
}
