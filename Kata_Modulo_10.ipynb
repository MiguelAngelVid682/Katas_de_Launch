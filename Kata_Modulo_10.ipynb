{
 "cells": [
  {
   "cell_type": "markdown",
   "metadata": {},
   "source": [
    "# Generación de excepciones\n",
    "Los astronautas limitan su uso de agua a unos 11 litros al día. Vamos a crear una función que, con base al número de astronautas, pueda calcular la cantidad de agua quedará después de un día o más:"
   ]
  },
  {
   "cell_type": "code",
   "execution_count": 7,
   "metadata": {},
   "outputs": [
    {
     "data": {
      "text/plain": [
       "'Total de agua que queda despues de 2 dias es: -10 litros'"
      ]
     },
     "execution_count": 7,
     "metadata": {},
     "output_type": "execute_result"
    }
   ],
   "source": [
    "def Agua_enanve(Astronautas,Agua_restante,Dias_restantes):\n",
    "    Uso_aldia = Astronautas * 11\n",
    "    Uso_total = Uso_aldia * Dias_restantes\n",
    "    Totaldeagua_restante = Agua_restante - Uso_total\n",
    "    return f\"Total de agua que queda despues de {Dias_restantes} dias es: {Totaldeagua_restante} litros\"\n",
    "Agua_enanve(5, 100, 2)"
   ]
  },
  {
   "cell_type": "markdown",
   "metadata": {},
   "source": [
    "Esto no es muy útil, ya que una carencia en los litros sería un error. Después, el sistema de navegación podría alertar a los astronautas que no habrá suficiente agua para todos en dos días. Si eres un ingeniero(a) que programa el sistema de navegación, podrías generar una excepción en la función water_left() para alertar de la condición de error:"
   ]
  },
  {
   "cell_type": "code",
   "execution_count": 9,
   "metadata": {},
   "outputs": [
    {
     "ename": "RuntimeError",
     "evalue": "¡No hay suficiente agua para los astronautas de 5 despues de 2 dias!",
     "output_type": "error",
     "traceback": [
      "\u001b[1;31m---------------------------------------------------------------------------\u001b[0m",
      "\u001b[1;31mRuntimeError\u001b[0m                              Traceback (most recent call last)",
      "\u001b[1;32mc:\\Users\\DELL\\Documents\\Proyectos de microsoft\\Kata_Modulo_10.ipynb Cell 4'\u001b[0m in \u001b[0;36m<module>\u001b[1;34m\u001b[0m\n\u001b[0;32m      <a href='vscode-notebook-cell:/c%3A/Users/DELL/Documents/Proyectos%20de%20microsoft/Kata_Modulo_10.ipynb#ch0000011?line=5'>6</a>\u001b[0m         \u001b[39mraise\u001b[39;00m \u001b[39mRuntimeError\u001b[39;00m(\u001b[39mf\u001b[39m\u001b[39m\"\u001b[39m\u001b[39m¡No hay suficiente agua para los astronautas de \u001b[39m\u001b[39m{\u001b[39;00mAstronautas\u001b[39m}\u001b[39;00m\u001b[39m despues de \u001b[39m\u001b[39m{\u001b[39;00mDias_restantes\u001b[39m}\u001b[39;00m\u001b[39m dias!\u001b[39m\u001b[39m\"\u001b[39m)\n\u001b[0;32m      <a href='vscode-notebook-cell:/c%3A/Users/DELL/Documents/Proyectos%20de%20microsoft/Kata_Modulo_10.ipynb#ch0000011?line=6'>7</a>\u001b[0m     \u001b[39mreturn\u001b[39;00m \u001b[39mf\u001b[39m\u001b[39m\"\u001b[39m\u001b[39mTotal de agua restante despues de \u001b[39m\u001b[39m{\u001b[39;00mDias_restantes\u001b[39m}\u001b[39;00m\u001b[39m dias es: \u001b[39m\u001b[39m{\u001b[39;00mTotaldeagua_restante\u001b[39m}\u001b[39;00m\u001b[39m litros\u001b[39m\u001b[39m\"\u001b[39m\n\u001b[1;32m----> <a href='vscode-notebook-cell:/c%3A/Users/DELL/Documents/Proyectos%20de%20microsoft/Kata_Modulo_10.ipynb#ch0000011?line=7'>8</a>\u001b[0m Agua_enanve(\u001b[39m5\u001b[39;49m, \u001b[39m100\u001b[39;49m, \u001b[39m2\u001b[39;49m)\n",
      "\u001b[1;32mc:\\Users\\DELL\\Documents\\Proyectos de microsoft\\Kata_Modulo_10.ipynb Cell 4'\u001b[0m in \u001b[0;36mAgua_enanve\u001b[1;34m(Astronautas, Agua_restante, Dias_restantes)\u001b[0m\n\u001b[0;32m      <a href='vscode-notebook-cell:/c%3A/Users/DELL/Documents/Proyectos%20de%20microsoft/Kata_Modulo_10.ipynb#ch0000011?line=3'>4</a>\u001b[0m Totaldeagua_restante \u001b[39m=\u001b[39m Agua_restante \u001b[39m-\u001b[39m Uso_total\n\u001b[0;32m      <a href='vscode-notebook-cell:/c%3A/Users/DELL/Documents/Proyectos%20de%20microsoft/Kata_Modulo_10.ipynb#ch0000011?line=4'>5</a>\u001b[0m \u001b[39mif\u001b[39;00m Totaldeagua_restante \u001b[39m<\u001b[39m \u001b[39m0\u001b[39m:\n\u001b[1;32m----> <a href='vscode-notebook-cell:/c%3A/Users/DELL/Documents/Proyectos%20de%20microsoft/Kata_Modulo_10.ipynb#ch0000011?line=5'>6</a>\u001b[0m     \u001b[39mraise\u001b[39;00m \u001b[39mRuntimeError\u001b[39;00m(\u001b[39mf\u001b[39m\u001b[39m\"\u001b[39m\u001b[39m¡No hay suficiente agua para los astronautas de \u001b[39m\u001b[39m{\u001b[39;00mAstronautas\u001b[39m}\u001b[39;00m\u001b[39m despues de \u001b[39m\u001b[39m{\u001b[39;00mDias_restantes\u001b[39m}\u001b[39;00m\u001b[39m dias!\u001b[39m\u001b[39m\"\u001b[39m)\n\u001b[0;32m      <a href='vscode-notebook-cell:/c%3A/Users/DELL/Documents/Proyectos%20de%20microsoft/Kata_Modulo_10.ipynb#ch0000011?line=6'>7</a>\u001b[0m \u001b[39mreturn\u001b[39;00m \u001b[39mf\u001b[39m\u001b[39m\"\u001b[39m\u001b[39mTotal de agua restante despues de \u001b[39m\u001b[39m{\u001b[39;00mDias_restantes\u001b[39m}\u001b[39;00m\u001b[39m dias es: \u001b[39m\u001b[39m{\u001b[39;00mTotaldeagua_restante\u001b[39m}\u001b[39;00m\u001b[39m litros\u001b[39m\u001b[39m\"\u001b[39m\n",
      "\u001b[1;31mRuntimeError\u001b[0m: ¡No hay suficiente agua para los astronautas de 5 despues de 2 dias!"
     ]
    }
   ],
   "source": [
    "def Agua_enanve(Astronautas,Agua_restante,Dias_restantes):\n",
    "    Uso_aldia = Astronautas * 11\n",
    "    Uso_total = Uso_aldia * Dias_restantes\n",
    "    Totaldeagua_restante = Agua_restante - Uso_total\n",
    "    if Totaldeagua_restante < 0:\n",
    "        raise RuntimeError(f\"¡No hay suficiente agua para los astronautas de {Astronautas} despues de {Dias_restantes} dias!\")\n",
    "    return f\"Total de agua restante despues de {Dias_restantes} dias es: {Totaldeagua_restante} litros\"\n",
    "Agua_enanve(5, 100, 2)"
   ]
  },
  {
   "cell_type": "code",
   "execution_count": 10,
   "metadata": {},
   "outputs": [
    {
     "ename": "SyntaxError",
     "evalue": "invalid syntax (3689223518.py, line 3)",
     "output_type": "error",
     "traceback": [
      "\u001b[1;36m  Input \u001b[1;32mIn [10]\u001b[1;36m\u001b[0m\n\u001b[1;33m    except RuntimeError as err:\u001b[0m\n\u001b[1;37m    ^\u001b[0m\n\u001b[1;31mSyntaxError\u001b[0m\u001b[1;31m:\u001b[0m invalid syntax\n"
     ]
    }
   ],
   "source": [
    "try:\n",
    "    Agua_enanve(5, 100, 2)\n",
    "    except RuntimeError as err:\n",
    "    alert_navigation_system(err)"
   ]
  },
  {
   "cell_type": "code",
   "execution_count": 11,
   "metadata": {},
   "outputs": [
    {
     "ename": "TypeError",
     "evalue": "can't multiply sequence by non-int of type 'NoneType'",
     "output_type": "error",
     "traceback": [
      "\u001b[1;31m---------------------------------------------------------------------------\u001b[0m",
      "\u001b[1;31mTypeError\u001b[0m                                 Traceback (most recent call last)",
      "\u001b[1;32mc:\\Users\\DELL\\Documents\\Proyectos de microsoft\\Kata_Modulo_10.ipynb Cell 6'\u001b[0m in \u001b[0;36m<module>\u001b[1;34m\u001b[0m\n\u001b[1;32m----> <a href='vscode-notebook-cell:/c%3A/Users/DELL/Documents/Proyectos%20de%20microsoft/Kata_Modulo_10.ipynb#ch0000013?line=0'>1</a>\u001b[0m Agua_enanve(\u001b[39m\"\u001b[39;49m\u001b[39m3\u001b[39;49m\u001b[39m\"\u001b[39;49m, \u001b[39m\"\u001b[39;49m\u001b[39m200\u001b[39;49m\u001b[39m\"\u001b[39;49m, \u001b[39mNone\u001b[39;49;00m)\n",
      "\u001b[1;32mc:\\Users\\DELL\\Documents\\Proyectos de microsoft\\Kata_Modulo_10.ipynb Cell 4'\u001b[0m in \u001b[0;36mAgua_enanve\u001b[1;34m(Astronautas, Agua_restante, Dias_restantes)\u001b[0m\n\u001b[0;32m      <a href='vscode-notebook-cell:/c%3A/Users/DELL/Documents/Proyectos%20de%20microsoft/Kata_Modulo_10.ipynb#ch0000011?line=0'>1</a>\u001b[0m \u001b[39mdef\u001b[39;00m \u001b[39mAgua_enanve\u001b[39m(Astronautas,Agua_restante,Dias_restantes):\n\u001b[0;32m      <a href='vscode-notebook-cell:/c%3A/Users/DELL/Documents/Proyectos%20de%20microsoft/Kata_Modulo_10.ipynb#ch0000011?line=1'>2</a>\u001b[0m     Uso_aldia \u001b[39m=\u001b[39m Astronautas \u001b[39m*\u001b[39m \u001b[39m11\u001b[39m\n\u001b[1;32m----> <a href='vscode-notebook-cell:/c%3A/Users/DELL/Documents/Proyectos%20de%20microsoft/Kata_Modulo_10.ipynb#ch0000011?line=2'>3</a>\u001b[0m     Uso_total \u001b[39m=\u001b[39m Uso_aldia \u001b[39m*\u001b[39;49m Dias_restantes\n\u001b[0;32m      <a href='vscode-notebook-cell:/c%3A/Users/DELL/Documents/Proyectos%20de%20microsoft/Kata_Modulo_10.ipynb#ch0000011?line=3'>4</a>\u001b[0m     Totaldeagua_restante \u001b[39m=\u001b[39m Agua_restante \u001b[39m-\u001b[39m Uso_total\n\u001b[0;32m      <a href='vscode-notebook-cell:/c%3A/Users/DELL/Documents/Proyectos%20de%20microsoft/Kata_Modulo_10.ipynb#ch0000011?line=4'>5</a>\u001b[0m     \u001b[39mif\u001b[39;00m Totaldeagua_restante \u001b[39m<\u001b[39m \u001b[39m0\u001b[39m:\n",
      "\u001b[1;31mTypeError\u001b[0m: can't multiply sequence by non-int of type 'NoneType'"
     ]
    }
   ],
   "source": [
    "Agua_enanve(\"3\", \"200\", None)"
   ]
  },
  {
   "cell_type": "markdown",
   "metadata": {},
   "source": [
    "El error de TypeError no es muy descriptivo en el contexto de lo que espera la función. Actualizaremos la función para que use TypeError, pero con un mensaje mejor:"
   ]
  },
  {
   "cell_type": "code",
   "execution_count": 16,
   "metadata": {},
   "outputs": [],
   "source": [
    "def Agua_enanve(Astronautas,Agua_restante,Dias_restantes):\n",
    "    for argumento in [Astronautas,Agua_restante,Dias_restantes]:\n",
    "        try:\n",
    "            argumento / 10\n",
    "        except TypeError:\n",
    "            raise TypeError(f\"Todos los argumentos deben ser de tipo int, pero recibidos: '{argumento}'\")\n",
    "    Uso_aldia = Astronautas * 11\n",
    "    Uso_total = Uso_aldia * Dias_restantes\n",
    "    Totaldeagua_restante = Agua_restante - Uso_total\n",
    "    if Totaldeagua_restante < 0:      \n",
    "         raise RuntimeError(f\"¡No hay suficiente agua para los astronautas de {Astronautas} despues de {Dias_restantes} dias!\")\n",
    "    return f\"Total de agua restante despues de {Dias_restantes} dias es: {Totaldeagua_restante} litros\""
   ]
  },
  {
   "cell_type": "code",
   "execution_count": 17,
   "metadata": {},
   "outputs": [
    {
     "ename": "TypeError",
     "evalue": "Todos los argumentos deben ser de tipo int, pero recibidos: '3'",
     "output_type": "error",
     "traceback": [
      "\u001b[1;31m---------------------------------------------------------------------------\u001b[0m",
      "\u001b[1;31mTypeError\u001b[0m                                 Traceback (most recent call last)",
      "\u001b[1;32mc:\\Users\\DELL\\Documents\\Proyectos de microsoft\\Kata_Modulo_10.ipynb Cell 8'\u001b[0m in \u001b[0;36mAgua_enanve\u001b[1;34m(Astronautas, Agua_restante, Dias_restantes)\u001b[0m\n\u001b[0;32m      <a href='vscode-notebook-cell:/c%3A/Users/DELL/Documents/Proyectos%20de%20microsoft/Kata_Modulo_10.ipynb#ch0000016?line=2'>3</a>\u001b[0m \u001b[39mtry\u001b[39;00m:\n\u001b[1;32m----> <a href='vscode-notebook-cell:/c%3A/Users/DELL/Documents/Proyectos%20de%20microsoft/Kata_Modulo_10.ipynb#ch0000016?line=3'>4</a>\u001b[0m     argumento \u001b[39m/\u001b[39;49m \u001b[39m10\u001b[39;49m\n\u001b[0;32m      <a href='vscode-notebook-cell:/c%3A/Users/DELL/Documents/Proyectos%20de%20microsoft/Kata_Modulo_10.ipynb#ch0000016?line=4'>5</a>\u001b[0m \u001b[39mexcept\u001b[39;00m \u001b[39mTypeError\u001b[39;00m:\n",
      "\u001b[1;31mTypeError\u001b[0m: unsupported operand type(s) for /: 'str' and 'int'",
      "\nDuring handling of the above exception, another exception occurred:\n",
      "\u001b[1;31mTypeError\u001b[0m                                 Traceback (most recent call last)",
      "\u001b[1;32mc:\\Users\\DELL\\Documents\\Proyectos de microsoft\\Kata_Modulo_10.ipynb Cell 9'\u001b[0m in \u001b[0;36m<module>\u001b[1;34m\u001b[0m\n\u001b[1;32m----> <a href='vscode-notebook-cell:/c%3A/Users/DELL/Documents/Proyectos%20de%20microsoft/Kata_Modulo_10.ipynb#ch0000018?line=0'>1</a>\u001b[0m Agua_enanve(\u001b[39m\"\u001b[39;49m\u001b[39m3\u001b[39;49m\u001b[39m\"\u001b[39;49m, \u001b[39m\"\u001b[39;49m\u001b[39m200\u001b[39;49m\u001b[39m\"\u001b[39;49m, \u001b[39mNone\u001b[39;49;00m)\n",
      "\u001b[1;32mc:\\Users\\DELL\\Documents\\Proyectos de microsoft\\Kata_Modulo_10.ipynb Cell 8'\u001b[0m in \u001b[0;36mAgua_enanve\u001b[1;34m(Astronautas, Agua_restante, Dias_restantes)\u001b[0m\n\u001b[0;32m      <a href='vscode-notebook-cell:/c%3A/Users/DELL/Documents/Proyectos%20de%20microsoft/Kata_Modulo_10.ipynb#ch0000016?line=3'>4</a>\u001b[0m         argumento \u001b[39m/\u001b[39m \u001b[39m10\u001b[39m\n\u001b[0;32m      <a href='vscode-notebook-cell:/c%3A/Users/DELL/Documents/Proyectos%20de%20microsoft/Kata_Modulo_10.ipynb#ch0000016?line=4'>5</a>\u001b[0m     \u001b[39mexcept\u001b[39;00m \u001b[39mTypeError\u001b[39;00m:\n\u001b[1;32m----> <a href='vscode-notebook-cell:/c%3A/Users/DELL/Documents/Proyectos%20de%20microsoft/Kata_Modulo_10.ipynb#ch0000016?line=5'>6</a>\u001b[0m         \u001b[39mraise\u001b[39;00m \u001b[39mTypeError\u001b[39;00m(\u001b[39mf\u001b[39m\u001b[39m\"\u001b[39m\u001b[39mTodos los argumentos deben ser de tipo int, pero recibidos: \u001b[39m\u001b[39m'\u001b[39m\u001b[39m{\u001b[39;00margumento\u001b[39m}\u001b[39;00m\u001b[39m'\u001b[39m\u001b[39m\"\u001b[39m)\n\u001b[0;32m      <a href='vscode-notebook-cell:/c%3A/Users/DELL/Documents/Proyectos%20de%20microsoft/Kata_Modulo_10.ipynb#ch0000016?line=6'>7</a>\u001b[0m Uso_aldia \u001b[39m=\u001b[39m Astronautas \u001b[39m*\u001b[39m \u001b[39m11\u001b[39m\n\u001b[0;32m      <a href='vscode-notebook-cell:/c%3A/Users/DELL/Documents/Proyectos%20de%20microsoft/Kata_Modulo_10.ipynb#ch0000016?line=7'>8</a>\u001b[0m Uso_total \u001b[39m=\u001b[39m Uso_aldia \u001b[39m*\u001b[39m Dias_restantes\n",
      "\u001b[1;31mTypeError\u001b[0m: Todos los argumentos deben ser de tipo int, pero recibidos: '3'"
     ]
    }
   ],
   "source": [
    "Agua_enanve(\"3\", \"200\", None)"
   ]
  }
 ],
 "metadata": {
  "interpreter": {
   "hash": "323dd8c1eab61c643a1d5c16cfd9bbb9ca17dbbf95ae354016c0c3942bbccd1a"
  },
  "kernelspec": {
   "display_name": "Python 3.10.2 64-bit (windows store)",
   "language": "python",
   "name": "python3"
  },
  "language_info": {
   "codemirror_mode": {
    "name": "ipython",
    "version": 3
   },
   "file_extension": ".py",
   "mimetype": "text/x-python",
   "name": "python",
   "nbconvert_exporter": "python",
   "pygments_lexer": "ipython3",
   "version": "3.10.2"
  },
  "orig_nbformat": 4
 },
 "nbformat": 4,
 "nbformat_minor": 2
}
