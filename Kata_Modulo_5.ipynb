{
 "cells": [
  {
   "cell_type": "markdown",
   "metadata": {},
   "source": [
    "# Ejercicio1 - Utilizar operadores aritméticos\n",
    "Operadores aritméticos en Python\n",
    "Python proporciona operadores aritméticos comunes para que puedas realizar operaciones matemáticas en tu código. Estos incluyen las cuatro operaciones principales de suma, resta, multiplicación y división.\n",
    "\n",
    "Exploremos cómo podemos crear un programa que pueda calcular la distancia entre dos planetas. Comenzaremos usando dos distancias de planetas: Tierra (149.597.870 km) y Júpiter (778.547.200 km)."
   ]
  },
  {
   "cell_type": "code",
   "execution_count": 1,
   "metadata": {},
   "outputs": [],
   "source": [
    "Planeta_Tierra = 149597870\n",
    "Planeta_Jupiter = 778547200"
   ]
  },
  {
   "cell_type": "markdown",
   "metadata": {},
   "source": [
    "### Realizar la operación\n",
    "Con los valores obtenidos, es el momento de añadir el código para realizar la operación. Restarás el primer planeta del segundo para determinar la distancia en kilómetros. A continuación, puedes convertir la distancia del kilómetro en millas multiplicándola por 0.621."
   ]
  },
  {
   "cell_type": "code",
   "execution_count": 4,
   "metadata": {},
   "outputs": [
    {
     "name": "stdout",
     "output_type": "stream",
     "text": [
      "La distancia en entre Jupiter y la tierra es 628949330 Km\n",
      "La distancia en entre Jupiter y la tierra es 390577533.93 mi\n"
     ]
    }
   ],
   "source": [
    "Distancia_Km= Planeta_Jupiter-Planeta_Tierra\n",
    "print(\"La distancia en entre Jupiter y la tierra es\", Distancia_Km,\"Km\")\n",
    "\n",
    "Distancia_Milla= Distancia_Km*0.621\n",
    "print(\"La distancia en entre Jupiter y la tierra es\", Distancia_Milla,\"mi\")"
   ]
  },
  {
   "cell_type": "markdown",
   "metadata": {},
   "source": [
    "# Ejercicio 2: convierte cadenas en números y usa valores absolutos\n",
    "### Crear una aplicación para trabajar con números y entrada de usuario\n",
    "\n",
    "Para crear nuestra aplicación, queremos leer la distancia del sol para dos planetas, y luego mostrar la distancia entre los planetas. Haremos esto usando input para leer los valores, int para convertir a entero y luego abs para convertir el resultado en su valor absoluto.\n",
    "\n",
    "#### Lee los valores\n",
    "Usando input, agrega el código para leer la distancia del sol para cada planeta, considerando 2 planetas.\n",
    "\n",
    "### Convertir a número\n",
    "Debido a que input devuelve valores de cadena, necesitamos convertirlos en números. Para nuestro ejemplo, usaremos int\n",
    "\n",
    "### Realizar el cálculo y convertir a valor absoluto\n",
    "Con los valores almacenados como números, ahora puedes agregar el código para realizar el cálculo, restando el primer planeta del segundo. Debido a que el segundo planeta podría ser un número mayor, usarás abs para convertirlo a un valor absoluto. También agregarás el código para mostrar el resultado en millas multiplicando la distancia del kilómetro por 0.621\n",
    "\n",
    "  Planeta  Distancia al sol\n",
    "- Mercurio= 57900000\n",
    "- Venus= 108200000\n",
    "- Tierra= 149600000\n",
    "- Marte= 227900000\n",
    "- Júpiter= 778600000\n",
    "- Saturno= 1433500000\n",
    "- Urano= 2872500000\n",
    "- Neptuno= 4495100000\n"
   ]
  },
  {
   "cell_type": "code",
   "execution_count": 31,
   "metadata": {},
   "outputs": [
    {
     "name": "stdout",
     "output_type": "stream",
     "text": [
      "La distancia en entre Venus y Mercurio   es:  50300000 Km\n",
      "La distancia en entre Venus y Mercurio   es:  31236300.0 mi\n"
     ]
    }
   ],
   "source": [
    "Planeta1 = input(\"Introduzca el nombre del primer planeta a consultar: \")\n",
    "Primer_planeta = input(\"Introduzca la su distancia del sol en km\")\n",
    "Planeta2 = input(\"Introduzca el nombre del segundo planeta a consultar: \")\n",
    "Segundo_planeta = input(\"Introduzca la su distancia del sol en km\")\n",
    "\n",
    "Primer_planeta = int(Primer_planeta)\n",
    "Segundo_planeta = int(Segundo_planeta)\n",
    "\n",
    "Distancia_km = Primer_planeta-Segundo_planeta\n",
    "print(\"La distancia en entre\",Planeta1, \"y\" ,Planeta2,\" es: \",abs(Distancia_km),\"Km\")\n",
    "Distancia_mi= Distancia_km*0.621\n",
    "print(\"La distancia en entre\",Planeta1, \"y\" ,Planeta2,\" es: \",abs(Distancia_mi),\"mi\")"
   ]
  }
 ],
 "metadata": {
  "interpreter": {
   "hash": "323dd8c1eab61c643a1d5c16cfd9bbb9ca17dbbf95ae354016c0c3942bbccd1a"
  },
  "kernelspec": {
   "display_name": "Python 3.10.2 64-bit (windows store)",
   "language": "python",
   "name": "python3"
  },
  "language_info": {
   "codemirror_mode": {
    "name": "ipython",
    "version": 3
   },
   "file_extension": ".py",
   "mimetype": "text/x-python",
   "name": "python",
   "nbconvert_exporter": "python",
   "pygments_lexer": "ipython3",
   "version": "3.10.2"
  },
  "orig_nbformat": 4
 },
 "nbformat": 4,
 "nbformat_minor": 2
}
